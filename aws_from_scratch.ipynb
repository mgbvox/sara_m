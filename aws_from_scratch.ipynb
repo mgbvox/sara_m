{
 "cells": [
  {
   "cell_type": "markdown",
   "metadata": {},
   "source": [
    "# AWS From Scratch\n",
    "## Creating an Instance for Deep Learning\n",
    "**NOTE:** All text in **[brackets]** is text that is unique to each user - so you'll have to fill it in. I.e. Users/**[your_user]** would be changed to Users/mgb if I needed to use it. DO NOT LEAVE THE BRACKETS IN THE TEXT, as this will throw all sorts of errors.\n",
    "\n",
    "Furthermore:\n",
    "Terminal commands will be indented like so:\n",
    ">This is a terminal command."
   ]
  },
  {
   "cell_type": "markdown",
   "metadata": {},
   "source": [
    "### Setting up SSH\n",
    "NOTE: AWS uses **ssh** to communicate. ssh is a secure way of sending messages between two parties over a public network (like the internet). [Watch this videw (link) for more information as to how ssh works.](https://www.youtube.com/watch?v=ORcvSkgdA58)\n",
    "\n",
    "I've already created an ssh key for us to use, called *sara_matt_dl*. You can find it in the same file this notebook came in. If, however, you want to make your own key, follow the steps below."
   ]
  },
  {
   "cell_type": "markdown",
   "metadata": {},
   "source": [
    "### Making an SSH Key (Optional)\n",
    ">cd /Users/**[your_user]**/.ssh/<br />\n",
    "\n",
    "type:\n",
    ">ssh-keygen<br />\n",
    "\n",
    "optional: \n",
    ">input ./**[your_keyname_here]**<br />\n",
    "\n",
    "Don't enter a password (leave blank and press enter). <br />\n",
    "An ssh key (and it's .pub public version) will be created in /Users/[your_user]/.ssh/"
   ]
  },
  {
   "cell_type": "markdown",
   "metadata": {},
   "source": [
    "### Uploading your SSH key:\n",
    "Login to the [AWS Console](https://aws.amazon.com/console/)<br/>\n",
    "Either locate the key I made and sent with this file, or locate your personal key, and do the following in the AWS console: <br/>\n",
    "\n",
    "click **Services** -> **EC2** -> **Key Pairs** (midway down lefthand dashboard)<br />\n",
    "click **Import Key Pair**<br />\n",
    "Select **[your_keyname].pub** (make sure you select the one with **.pub** in the name!) and import it.<br />"
   ]
  },
  {
   "cell_type": "markdown",
   "metadata": {},
   "source": [
    "### Securing Your SSH Key (Not Optional)\n",
    "Regardless of which key you use, after you've uploaded it, do the following:\n",
    ">cd /Users/[your_user]/.ssh/<br/>\n",
    ">chmod 400 [your_key_name]\n",
    "\n",
    "Note, do NOT chmod the .pub key version - the version to chmod will either have the extension .pem OR no extension at all."
   ]
  },
  {
   "cell_type": "markdown",
   "metadata": {},
   "source": [
    "### Launching your Instance\n",
    "Now, in AWS, go to:\n",
    "**Services** -> **EC2** -> **Launch Instance** (click)<br/>\n",
    "Search for 'Deep Learning' in the searchbar above 'Quick Start', and select the top option (currently 'Deep Learning AMI (Ubuntu) Version 23.1').<br/>\n",
    "Select **p2.xlarge** (You'll have to scroll a bit)<br/>\n",
    "Click **Next: Configure Instance Details.** *CHANGE NOTHING ON THIS PAGE.*<br/>\n",
    "Click **Next: Add Storage.**<br/>\n",
    "On the storage page, change the Size number to somewhere between 300 and 500 GiB. That's enough to hold the libraries we'll need and the datasets we need.<br/>\n",
    "\n",
    "Click **Review and Launch.**<br/>\n",
    "Click **Launch.**<br/>\n",
    "\n",
    "In the popup that appears, make sure 'choose an existing keypair' is the first option, then select the keypair you uploaded (I used sara_matt_dl).<br/>\n",
    "\n",
    "Check the acknowledge box, and click Launch!<br/>\n",
    "After waiting a few minutes for the machine to initialize, you should be good to go."
   ]
  },
  {
   "cell_type": "markdown",
   "metadata": {},
   "source": [
    "## Accessing Your Instance\n",
    "Now we're ready to connect! In your terminal, use the following command to ssh into your running instance, while simultaneously redirecting it's browser traffic back to your computer (for jupyter notebook purposes):\n",
    ">ssh -i \"/Users/mgb/.ssh/[your_key_name (NOT .pub)]\" -L localhost:8888:localhost:8888 ubuntu@[your instance's public DNS - i.e. ec2-34-222-1-252.us-west-2.compute.amazonaws.com]"
   ]
  },
  {
   "cell_type": "markdown",
   "metadata": {},
   "source": [
    "**NOTE:** If the command takes a long time to run and eventually times out, your instance's public DNS might have changed. Copy the correct address from the Public DNS column and use that."
   ]
  },
  {
   "cell_type": "markdown",
   "metadata": {},
   "source": [
    "### Installing the Things We Need\n",
    "The following commands will activate the environment we need, download Fast.AI's materials, install fastai, and update everything (run one at a time):\n",
    ">source activate pytorch_p36<br/>\n",
    ">git clone https://github.com/fastai/course-v3<br/>\n",
    ">conda update -n base -c defaults conda -y<br/>\n",
    ">conda install -c pytorch -c fastai fastai pytorch torchvision cuda92 -y<br/>\n",
    ">conda update --all -y<br/>\n",
    ">conda install jupyter -y<br/>\n",
    ">pip install dicom\n",
    "\n",
    "To check if everything's running fine, run:\n",
    ">jupyter notebook\n",
    "\n",
    "Then copy-paste the link the terminal gives you into your browser of choice. **NOTE:** You may have to restart the ssh session if the link doesn't work. You can do that by typing:\n",
    ">exit"
   ]
  },
  {
   "cell_type": "markdown",
   "metadata": {},
   "source": [
    "Navigtate in the notebook to *course-v3/nbs/dl1* and open *lesson1-pets*.<br/>\n",
    "Run the cell that contains:\n",
    ">from fastai.vision import *<br/>\n",
    ">from fastai.metrics import error_rate<br/>\n",
    "\n",
    "If no errors are thrown, you're golden!"
   ]
  }
 ],
 "metadata": {
  "kernelspec": {
   "display_name": "Python 3",
   "language": "python",
   "name": "python3"
  },
  "language_info": {
   "codemirror_mode": {
    "name": "ipython",
    "version": 3
   },
   "file_extension": ".py",
   "mimetype": "text/x-python",
   "name": "python",
   "nbconvert_exporter": "python",
   "pygments_lexer": "ipython3",
   "version": "3.6.7"
  }
 },
 "nbformat": 4,
 "nbformat_minor": 2
}
