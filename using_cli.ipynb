{
 "cells": [
  {
   "cell_type": "code",
   "execution_count": null,
   "metadata": {},
   "outputs": [],
   "source": []
  },
  {
   "cell_type": "code",
   "execution_count": 10,
   "metadata": {},
   "outputs": [],
   "source": [
    "\"\"\"Getting Started Example for Python 2.7+/3.3+\"\"\"\n",
    "from boto3 import Session\n",
    "from botocore.exceptions import BotoCoreError, ClientError\n",
    "from contextlib import closing\n",
    "import os\n",
    "import sys\n",
    "import subprocess\n",
    "from tempfile import gettempdir\n",
    "\n",
    "# Create a client using the credentials and region defined in the [adminuser]\n",
    "# section of the AWS credentials file (~/.aws/credentials).\n",
    "session = Session(profile_name=\"default\")\n",
    "polly = session.client(\"polly\")\n",
    "\n",
    "try:\n",
    "    # Request speech synthesis\n",
    "    response = polly.synthesize_speech(Text=\"Hello world!\", OutputFormat=\"mp3\",\n",
    "                                        VoiceId=\"Joanna\")\n",
    "except (BotoCoreError, ClientError) as error:\n",
    "    # The service returned an error, exit gracefully\n",
    "    print(error)\n",
    "    sys.exit(-1)\n",
    "\n",
    "# Access the audio stream from the response\n",
    "if \"AudioStream\" in response:\n",
    "    # Note: Closing the stream is important because the service throttles on the\n",
    "    # number of parallel connections. Here we are using contextlib.closing to\n",
    "    # ensure the close method of the stream object will be called automatically\n",
    "    # at the end of the with statement's scope.\n",
    "    with closing(response[\"AudioStream\"]) as stream:\n",
    "        output = os.path.join(gettempdir(), \"speech.mp3\")\n",
    "\n",
    "        try:\n",
    "            # Open a file for writing the output as a binary stream\n",
    "            with open(output, \"wb\") as file:\n",
    "                file.write(stream.read())\n",
    "        except IOError as error:\n",
    "            # Could not write to file, exit gracefully\n",
    "            print(error)\n",
    "            sys.exit(-1)\n",
    "\n",
    "else:\n",
    "    # The response didn't contain audio data, exit gracefully\n",
    "    print(\"Could not stream audio\")\n",
    "    sys.exit(-1)\n",
    "\n",
    "# Play the audio using the platform's default player\n",
    "if sys.platform == \"win32\":\n",
    "    os.startfile(output)\n",
    "else:\n",
    "    # The following works on macOS and Linux. (Darwin = mac, xdg-open = linux).\n",
    "    opener = \"open\" if sys.platform == \"darwin\" else \"xdg-open\"\n",
    "    subprocess.call([opener, output])"
   ]
  },
  {
   "cell_type": "code",
   "execution_count": null,
   "metadata": {},
   "outputs": [],
   "source": []
  },
  {
   "cell_type": "code",
   "execution_count": null,
   "metadata": {},
   "outputs": [],
   "source": []
  }
 ],
 "metadata": {
  "kernelspec": {
   "display_name": "Python 3",
   "language": "python",
   "name": "python3"
  },
  "language_info": {
   "codemirror_mode": {
    "name": "ipython",
    "version": 3
   },
   "file_extension": ".py",
   "mimetype": "text/x-python",
   "name": "python",
   "nbconvert_exporter": "python",
   "pygments_lexer": "ipython3",
   "version": "3.6.7"
  }
 },
 "nbformat": 4,
 "nbformat_minor": 2
}
